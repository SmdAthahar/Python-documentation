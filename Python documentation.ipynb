{
 "cells": [
  {
   "cell_type": "markdown",
   "id": "e7a1aba3-fd9a-4acb-a6b7-3333de957ee8",
   "metadata": {},
   "source": [
    "### Python programming documentation"
   ]
  },
  {
   "cell_type": "code",
   "execution_count": null,
   "id": "df243af2-c8aa-4ee6-9867-3c4f9e0d0158",
   "metadata": {},
   "outputs": [],
   "source": []
  },
  {
   "cell_type": "markdown",
   "id": "3f18c2d3-ee44-4824-9840-a51cdce714ea",
   "metadata": {},
   "source": [
    "#### 1 Definition:\n",
    "\n",
    "Python is a high-level, interpreted programming language that allows people to write computer programs. Python is famous for its clear, simple syntax, making it suitable for beginners and professionals to build websites, analyze data, make games, control robots, and more."
   ]
  },
  {
   "cell_type": "markdown",
   "id": "4b0e1aa9-4db3-4e4c-94e7-035619ad35c2",
   "metadata": {},
   "source": [
    "### 2 Variables and data types\n",
    "\n",
    "A variable is a named place in memory where you can store data like numbers, text, or lists. Python figures out what type of data you are storing (int, float, str, etc.) just from the value you assign it "
   ]
  },
  {
   "cell_type": "markdown",
   "id": "3fd6f879-28d8-42d4-9364-cc77d82ed1f7",
   "metadata": {},
   "source": [
    "Variables help you remember and reuse information, like saving a user's name or a calculation result."
   ]
  },
  {
   "cell_type": "code",
   "execution_count": 13,
   "id": "9853c60c-5dc5-4947-b981-e241584ce4f6",
   "metadata": {},
   "outputs": [],
   "source": [
    "age = 18              \n",
    "price = 19.99         \n",
    "username = \"Athahar\"    \n",
    "is_student = True     "
   ]
  },
  {
   "cell_type": "markdown",
   "id": "d9dcaf64-0f29-445f-9f56-b50bfc425d10",
   "metadata": {},
   "source": [
    "we can check what dataype each variable is storing using type function"
   ]
  },
  {
   "cell_type": "code",
   "execution_count": 16,
   "id": "6d61a884-c3ad-421b-af89-96dc9be5d9b5",
   "metadata": {},
   "outputs": [
    {
     "data": {
      "text/plain": [
       "int"
      ]
     },
     "execution_count": 16,
     "metadata": {},
     "output_type": "execute_result"
    }
   ],
   "source": [
    "type(age)"
   ]
  },
  {
   "cell_type": "code",
   "execution_count": 18,
   "id": "9cc39bdd-3398-4502-9a11-8eac90930a57",
   "metadata": {},
   "outputs": [
    {
     "data": {
      "text/plain": [
       "float"
      ]
     },
     "execution_count": 18,
     "metadata": {},
     "output_type": "execute_result"
    }
   ],
   "source": [
    "type(price)"
   ]
  },
  {
   "cell_type": "code",
   "execution_count": 20,
   "id": "f455019c-e388-4d91-b719-54bdcc49a1fb",
   "metadata": {},
   "outputs": [
    {
     "data": {
      "text/plain": [
       "str"
      ]
     },
     "execution_count": 20,
     "metadata": {},
     "output_type": "execute_result"
    }
   ],
   "source": [
    "type(username)"
   ]
  },
  {
   "cell_type": "code",
   "execution_count": 22,
   "id": "7792c375-66b2-4cff-b8c9-be52485acb3f",
   "metadata": {},
   "outputs": [
    {
     "data": {
      "text/plain": [
       "bool"
      ]
     },
     "execution_count": 22,
     "metadata": {},
     "output_type": "execute_result"
    }
   ],
   "source": [
    "type(is_student)"
   ]
  },
  {
   "cell_type": "markdown",
   "id": "f0700a61-15bf-466c-987c-11703e24781f",
   "metadata": {},
   "source": [
    "### 3 Arithmetic Operators"
   ]
  },
  {
   "cell_type": "markdown",
   "id": "c18c0410-8ee9-4a48-bccf-e15776c171c6",
   "metadata": {},
   "source": [
    "### Definition:\n",
    "\n",
    "Arithmetic operators are symbols that tell Python to perform math calculations like addition, subtraction, multiplication, division, and more.\n",
    "\n",
    "They help you do calculations in your program, like adding numbers or finding results."
   ]
  },
  {
   "cell_type": "code",
   "execution_count": 27,
   "id": "d08f328b-69b3-4968-8d79-b27974dd54b6",
   "metadata": {},
   "outputs": [],
   "source": [
    "a = 10 + 5\n",
    "b = 10 - 3\n",
    "c = 4 * 3\n",
    "d = 20 / 4\n",
    "e = 7 % 3\n",
    "f = 2 ** 3"
   ]
  },
  {
   "cell_type": "code",
   "execution_count": 60,
   "id": "127d3e91-2c8b-4a34-9eba-0d60b5d5baec",
   "metadata": {},
   "outputs": [
    {
     "name": "stdout",
     "output_type": "stream",
     "text": [
      "Addition: a = 10 + 5 = 15\n",
      "Subtraction: b = 10 - 3 = 7\n",
      "Multiplication: c = 4 * 3 = 12\n",
      "Division: d = 20 / 4 = 5.0\n",
      "Modulus (remainder): e = 7 % 3 = 1\n",
      "Exponentiation: f = 2 ** 3 = 8\n"
     ]
    }
   ],
   "source": [
    "print(\"Addition: a = 10 + 5 =\", a)\n",
    "print(\"Subtraction: b = 10 - 3 =\", b)\n",
    "print(\"Multiplication: c = 4 * 3 =\", c)\n",
    "print(\"Division: d = 20 / 4 =\", d)\n",
    "print(\"Modulus (remainder): e = 7 % 3 =\", e)\n",
    "print(\"Exponentiation: f = 2 ** 3 =\", f)\n"
   ]
  },
  {
   "cell_type": "markdown",
   "id": "99c5faa9-118d-4667-bfa9-be3d63b803c9",
   "metadata": {},
   "source": [
    "### 4 Comparison Operators"
   ]
  },
  {
   "cell_type": "markdown",
   "id": "4a0157fb-8b91-4d8f-b984-e0695c45748f",
   "metadata": {},
   "source": [
    "### Definition: \n",
    "\n",
    "Comparison operators (like ==, <, >, !=, <=, >=) are used to compare two values. Python checks the relationship and returns True or False.\n",
    "\n",
    "To decide what happens next in your code based on conditions."
   ]
  },
  {
   "cell_type": "code",
   "execution_count": 35,
   "id": "2d09bbcf-224e-482f-8f31-b89136647b4b",
   "metadata": {},
   "outputs": [
    {
     "name": "stdout",
     "output_type": "stream",
     "text": [
      "True\n",
      "False\n"
     ]
    }
   ],
   "source": [
    "age = 16\n",
    "print(age < 18)  \n",
    "print(age == 18)  "
   ]
  },
  {
   "cell_type": "markdown",
   "id": "c0abfdb2-e581-4b6a-b1fd-6059f144d11b",
   "metadata": {},
   "source": [
    "### 5. Logical Operators "
   ]
  },
  {
   "cell_type": "markdown",
   "id": "4aa7d958-ef10-450d-b266-71036f9ecb7d",
   "metadata": {},
   "source": [
    "### Definition:\n",
    "\n",
    "Logical operators (and, or, not) connect multiple conditions to check if multiple things are true or false.\n",
    "\n",
    "It is used for more complex decisions, like checking several things at once."
   ]
  },
  {
   "cell_type": "code",
   "execution_count": 42,
   "id": "36fa4600-2c34-4b57-942b-c047c2051c23",
   "metadata": {},
   "outputs": [
    {
     "name": "stdout",
     "output_type": "stream",
     "text": [
      "True\n",
      "False\n",
      "False\n"
     ]
    }
   ],
   "source": [
    "x = 10\n",
    "y = 20\n",
    "print(x > 5 and y < 30)  \n",
    "print(x < 5 or y < 15)    \n",
    "print(not x == 10)       "
   ]
  },
  {
   "cell_type": "markdown",
   "id": "4da09880-733b-4b25-8179-e672550047df",
   "metadata": {},
   "source": [
    "### 6 Conditional Statements\n",
    "\n",
    "### Definition:\n",
    "\n",
    "Conditional statements help programs make choices. Python mainly uses three: if, elif, and else. Here's each part explained in detail:"
   ]
  },
  {
   "cell_type": "markdown",
   "id": "b7cc1ae5-9676-4325-a036-17f258622d53",
   "metadata": {},
   "source": [
    "### a) if Statement:\n",
    "\n",
    "### Definition:\n",
    "An if statement checks if a condition is True. If it is, the code inside the if block runs. If not, the block is skipped. It's the basic tool for decision-making in Python.\n",
    "\n",
    "It is used have the code do something only if a certain test or condition is met."
   ]
  },
  {
   "cell_type": "code",
   "execution_count": 47,
   "id": "13aff658-3c2e-44bf-8a00-f12e031bcfd9",
   "metadata": {},
   "outputs": [
    {
     "name": "stdout",
     "output_type": "stream",
     "text": [
      "The number is bigger than 5.\n"
     ]
    }
   ],
   "source": [
    "number = 7\n",
    "if number > 5:\n",
    "    print(\"The number is bigger than 5.\")"
   ]
  },
  {
   "cell_type": "markdown",
   "id": "0c4771fa-8c2b-46a2-b680-77e02f8afcc5",
   "metadata": {},
   "source": [
    "### b) The elif Statement\n",
    "\n",
    "### Definition:\n",
    "\n",
    "elif is short for \"else if\". You use it to check a second (or third, or fourth, etc.) condition if the previous if condition(s) were False. It's a way to chain multiple choices together.\n",
    "\n",
    "It is used when you have several possible options and you want to check them one by one."
   ]
  },
  {
   "cell_type": "code",
   "execution_count": 50,
   "id": "6fe20657-34df-4a64-a3c3-81c0592a4ff8",
   "metadata": {},
   "outputs": [
    {
     "name": "stdout",
     "output_type": "stream",
     "text": [
      "Grade: B\n"
     ]
    }
   ],
   "source": [
    "marks = 80\n",
    "if marks >= 90:\n",
    "    print(\"Grade: A\")\n",
    "elif marks >= 75:\n",
    "    print(\"Grade: B\")\n",
    "elif marks >= 60:\n",
    "    print(\"Grade: C\")"
   ]
  },
  {
   "cell_type": "markdown",
   "id": "458e94c5-7c55-492c-b08d-0c2b8b03cbb5",
   "metadata": {},
   "source": [
    "### c) The else Statement\n",
    "\n",
    "### Definition\n",
    "\n",
    "The else statement catches everything else that wasn't caught by the if or elif checks. You do not write a condition after else—it just runs if all the earlier tests fail.\n",
    "\n",
    "It gives a default action or message when none of the above conditions are true."
   ]
  },
  {
   "cell_type": "code",
   "execution_count": 53,
   "id": "19d8de70-f545-4ef9-828d-51541db650ba",
   "metadata": {},
   "outputs": [
    {
     "name": "stdout",
     "output_type": "stream",
     "text": [
      "Keep trying!\n"
     ]
    }
   ],
   "source": [
    "score = 40\n",
    "if score >= 90:\n",
    "    print(\"Excellent!\")\n",
    "elif score >= 70:\n",
    "    print(\"Good!\")\n",
    "else:\n",
    "    print(\"Keep trying!\")  "
   ]
  },
  {
   "cell_type": "markdown",
   "id": "bbc01454-3c34-4117-be25-c8440b4e3b58",
   "metadata": {},
   "source": [
    "Combining if, elif, and else:"
   ]
  },
  {
   "cell_type": "code",
   "execution_count": 58,
   "id": "f3b298f0-313d-46ef-b7e8-04d63ea3b5e3",
   "metadata": {},
   "outputs": [
    {
     "name": "stdout",
     "output_type": "stream",
     "text": [
      "It's cool outside\n"
     ]
    }
   ],
   "source": [
    "temp = 15\n",
    "if temp >= 30:\n",
    "    print(\"It's hot outside\")\n",
    "elif temp >= 20:\n",
    "    print(\"It's warm outside\")\n",
    "elif temp >= 10:\n",
    "    print(\"It's cool outside\")\n",
    "else:\n",
    "    print(\"It's cold outside\")\n"
   ]
  },
  {
   "cell_type": "markdown",
   "id": "8ebe8b15-3849-491e-b54e-d464ab0af03b",
   "metadata": {},
   "source": [
    "### 7. Loops\n",
    "\n",
    "Loops repeat actions, saving you from writing the same code over and over. There are two main types: for and while.\n",
    "\n",
    "### For Loop:\n",
    "\n",
    "A for loop repeats code for each item in a list or range, one by one.\n",
    "\n",
    "It is used to process every item in a group, or repeat an action a known number of times."
   ]
  },
  {
   "cell_type": "code",
   "execution_count": 66,
   "id": "bfaae2e7-f482-44ff-af80-a1518cf80b1f",
   "metadata": {},
   "outputs": [
    {
     "name": "stdout",
     "output_type": "stream",
     "text": [
      "1\n",
      "2\n",
      "3\n"
     ]
    }
   ],
   "source": [
    "for i in range(1, 4):\n",
    "    print(i)\n"
   ]
  },
  {
   "cell_type": "markdown",
   "id": "c57d31eb-c39b-4949-b704-bd341b137af6",
   "metadata": {},
   "source": [
    "### While Loop\n",
    "\n",
    "### Definition:\n",
    "A while loop repeats code as long as a condition remains True.\n",
    "\n",
    "It is used to keep doing something until a certain point (possibly unknown in advance)."
   ]
  },
  {
   "cell_type": "code",
   "execution_count": 71,
   "id": "c7729191-a07d-4eb8-a776-bf5d05dd618a",
   "metadata": {},
   "outputs": [
    {
     "name": "stdout",
     "output_type": "stream",
     "text": [
      "Count is 0\n",
      "Count is 1\n",
      "Count is 2\n"
     ]
    }
   ],
   "source": [
    "count = 0\n",
    "while count < 3:\n",
    "    print(\"Count is\", count)\n",
    "    count += 1"
   ]
  },
  {
   "cell_type": "markdown",
   "id": "32b3a485-d5a5-4ef8-a09b-00f5510308e2",
   "metadata": {},
   "source": [
    "### 8 Object-Oriented Programming (OOPS)"
   ]
  },
  {
   "cell_type": "markdown",
   "id": "111727d9-2192-4b2d-b367-3b6c8c64e9f3",
   "metadata": {},
   "source": [
    "### Definition:\n",
    "\n",
    "Object-Oriented Programming (OOP) is a style of writing programs that brings code closer to the real world. In OOP, you design programs around objects—collections of data (attributes) and actions (methods) bundled together. This approach makes it easier to handle complex problems by grouping similar things and their behaviors."
   ]
  },
  {
   "cell_type": "markdown",
   "id": "a2430925-cc24-4580-9997-36eb6e4ca414",
   "metadata": {},
   "source": [
    "OOP helps organize code, make programs easier to understand, and reuse code efficiently in large systems."
   ]
  },
  {
   "cell_type": "markdown",
   "id": "6bd2f91b-74b0-4d6e-953d-e561ffd96683",
   "metadata": {},
   "source": [
    "### a) Classes and Objects"
   ]
  },
  {
   "cell_type": "markdown",
   "id": "9468c09b-3fa7-4994-82a1-9831432f2e96",
   "metadata": {},
   "source": [
    "### Class\n",
    "\n",
    "#### Definition:\n",
    "\n",
    "A class is like a blueprint or plan for making objects. It defines what data (attributes) and what actions (methods) objects of that kind will have."
   ]
  },
  {
   "cell_type": "markdown",
   "id": "444cd0e4-4a98-4e24-b770-8ddf3d0863f1",
   "metadata": {},
   "source": [
    "To design various \"types\" of objects in your code, such as a Car, a Student, or a Book."
   ]
  },
  {
   "cell_type": "code",
   "execution_count": 81,
   "id": "62716964-14ab-42f4-94a2-0f127a52cf21",
   "metadata": {},
   "outputs": [],
   "source": [
    "class Student:\n",
    "    pass  "
   ]
  },
  {
   "cell_type": "markdown",
   "id": "3713f3e2-8884-4428-bbbe-9fdb4c841863",
   "metadata": {},
   "source": [
    "### Object\n",
    "\n",
    "#### Definition:\n",
    "An object is one specific thing created from a class blueprint. It can hold its own unique data.\n",
    "\n",
    "Objects bring classes to life, turning a plan into something you can use and change."
   ]
  },
  {
   "cell_type": "code",
   "execution_count": 84,
   "id": "df23930f-a1c9-4db4-825d-b116890fb4fd",
   "metadata": {},
   "outputs": [],
   "source": [
    "obj = Student()"
   ]
  },
  {
   "cell_type": "markdown",
   "id": "d51f8dc9-8069-4440-85bf-57b2a2006a26",
   "metadata": {},
   "source": [
    "### b) Attributes and Method\n",
    "\n",
    "##### Attributes Definition:\n",
    "Attributes are pieces of information stored in an object—like a person's name or age.\n",
    "\n",
    "To store important information about each object"
   ]
  },
  {
   "cell_type": "code",
   "execution_count": 87,
   "id": "c4c06d16-8cce-4a0b-bcde-f7809f592d7c",
   "metadata": {},
   "outputs": [
    {
     "name": "stdout",
     "output_type": "stream",
     "text": [
      "Honda Civic\n"
     ]
    }
   ],
   "source": [
    "class Car:\n",
    "    def __init__(self, model):\n",
    "        self.model = model\n",
    "\n",
    "my_car = Car(\"Honda Civic\")\n",
    "print(my_car.model)"
   ]
  },
  {
   "cell_type": "markdown",
   "id": "4c1114d5-1315-40dd-83fd-caaee070508d",
   "metadata": {},
   "source": [
    "#### Methods Definition:\n",
    "Methods are functions that belong to a class. They describe what objects can do.\n",
    "\n",
    "Methods help objects perform tasks or change their information."
   ]
  },
  {
   "cell_type": "code",
   "execution_count": 94,
   "id": "284207cf-c067-4f09-bb53-e793acf38924",
   "metadata": {},
   "outputs": [
    {
     "name": "stdout",
     "output_type": "stream",
     "text": [
      "Meow\n"
     ]
    }
   ],
   "source": [
    "class Cat:\n",
    "    def sound(self):\n",
    "        print(\"Meow\")\n",
    "\n",
    "pet = Cat()\n",
    "pet.sound()   "
   ]
  },
  {
   "cell_type": "markdown",
   "id": "88e82104-eeaf-4fd7-93bd-ee1f30703025",
   "metadata": {},
   "source": [
    "### c) Inheritance\n",
    "#### Definition:\n",
    "Inheritance lets you create a new class (child) that automatically gets the features of another class (parent). You can also add new features or change existing ones in the child class.\n",
    "\n",
    "To avoid repeating code and to create a clear relationship between objects."
   ]
  },
  {
   "cell_type": "code",
   "execution_count": 101,
   "id": "2461f880-663f-4985-9940-bf72f92c8259",
   "metadata": {},
   "outputs": [
    {
     "name": "stdout",
     "output_type": "stream",
     "text": [
      "Pedaling\n"
     ]
    }
   ],
   "source": [
    "class Vehicle:\n",
    "    def move(self):\n",
    "        print(\"Vehicle is moving\")\n",
    "\n",
    "class Bicycle(Vehicle):   # Bicycle inherits from Vehicle\n",
    "    def move(self):\n",
    "        print(\"Pedaling\")\n",
    "\n",
    "my_bike = Bicycle()\n",
    "my_bike.move()   "
   ]
  },
  {
   "cell_type": "markdown",
   "id": "59a168ba-fd43-4255-8b73-6cb9bb09882a",
   "metadata": {},
   "source": [
    "### d) Encapsulation\n",
    "\n",
    "#### Definition:\n",
    "\n",
    "Encapsulation is wrapping the data (attributes) and the methods (actions) together into one class and hiding the inner details from outside the class.\n",
    "\n",
    "To protect data and prevent it from being changed by accident."
   ]
  },
  {
   "cell_type": "code",
   "execution_count": 105,
   "id": "96003a71-3bbf-4f52-ba1c-6d562af068de",
   "metadata": {},
   "outputs": [
    {
     "name": "stdout",
     "output_type": "stream",
     "text": [
      "150\n"
     ]
    }
   ],
   "source": [
    "class Account:\n",
    "    def __init__(self, balance):\n",
    "        self.__balance = balance  \n",
    "\n",
    "    def deposit(self, amount):\n",
    "        self.__balance += amount\n",
    "\n",
    "    def get_balance(self):\n",
    "        return self.__balance\n",
    "\n",
    "my_acc = Account(100)\n",
    "my_acc.deposit(50)\n",
    "print(my_acc.get_balance())   "
   ]
  },
  {
   "cell_type": "markdown",
   "id": "aa03e560-ffdc-4f0b-ba44-7515631f656e",
   "metadata": {},
   "source": [
    "### e) Polymorphism\n",
    "\n",
    "#### Definition:\n",
    "Polymorphism means \"many forms.\" In Python, it lets you use the same method name in different classes and the correct version will be used for each object.\n",
    "\n",
    "\n",
    "To write flexible code that can work with objects of different types."
   ]
  },
  {
   "cell_type": "code",
   "execution_count": 109,
   "id": "1045a39a-ca9f-43e7-bfad-2cb2139ca713",
   "metadata": {},
   "outputs": [
    {
     "name": "stdout",
     "output_type": "stream",
     "text": [
      "Hi, I'm Neha, 28 years old, and I work as a Software Engineer.\n",
      "Hi, I'm Raj, 34 years old, and I work as a Doctor.\n",
      "Neha just turned 29!\n"
     ]
    }
   ],
   "source": [
    "class Person:\n",
    "    def __init__(self, name, age, profession):\n",
    "        self.name = name\n",
    "        self.age = age\n",
    "        self.profession = profession\n",
    "\n",
    "    def introduce(self):\n",
    "        print(f\"Hi, I'm {self.name}, {self.age} years old, and I work as a {self.profession}.\")\n",
    "\n",
    "    def celebrate_birthday(self):\n",
    "        self.age += 1\n",
    "        print(f\"{self.name} just turned {self.age}!\")\n",
    "\n",
    "\n",
    "person1 = Person(\"Neha\", 28, \"Software Engineer\")\n",
    "person2 = Person(\"Raj\", 34, \"Doctor\")\n",
    "\n",
    "person1.introduce()      \n",
    "person2.introduce()      \n",
    "person1.celebrate_birthday()  \n"
   ]
  },
  {
   "cell_type": "markdown",
   "id": "3e9d6843-407c-4cbe-8432-07efa88fdfbf",
   "metadata": {},
   "source": [
    "## Numpy and Pandas"
   ]
  },
  {
   "cell_type": "markdown",
   "id": "d294e6c5-45f1-4a1b-9e33-f924aea1284e",
   "metadata": {},
   "source": [
    "## 1. What is NumPy?\n",
    "\n",
    "NumPy (Numerical Python) is a powerful library in Python for working with numbers, especially arrays (tables of values). It provides incredibly fast ways to store, access, and do math on collections of numbers—much faster and more flexible than regular Python lists. NumPy forms the foundation for most scientific and data computing in Python.\n",
    "\n",
    "**Uses**  \n",
    "It makes handling big sets of numbers easy—like in statistics, engineering, or working with images. You can do calculations, reshaping, and complex mathematics all with just a few lines of code, and it's much faster than pure Python lists.\n"
   ]
  },
  {
   "cell_type": "code",
   "execution_count": 113,
   "id": "d7e5f98d-f49d-407b-aea4-9f2d7859b4c1",
   "metadata": {},
   "outputs": [
    {
     "name": "stdout",
     "output_type": "stream",
     "text": [
      "[1 2 3 4 5]\n"
     ]
    }
   ],
   "source": [
    "import numpy as np\n",
    "arr = np.array([1, 2, 3, 4, 5])\n",
    "print(arr)"
   ]
  },
  {
   "cell_type": "markdown",
   "id": "107ec86a-e214-4aaf-bda0-5bdab48bf16b",
   "metadata": {},
   "source": [
    "## 2. NumPy Arrays\n",
    "\n",
    "### a) Array Definition\n",
    "\n",
    "A NumPy array is a grid or table of numbers, all stored together in memory. Unlike Python lists, NumPy arrays are typed (all numbers must be of the same type) and support fast mathematical operations.\n",
    "\n",
    "**Uses**  \n",
    "Arrays let you do things like adding, multiplying, or transforming entire groups of numbers instantly.\n"
   ]
  },
  {
   "cell_type": "code",
   "execution_count": 117,
   "id": "155f79cc-c722-4e1e-b8f4-37166fd9d71a",
   "metadata": {},
   "outputs": [
    {
     "name": "stdout",
     "output_type": "stream",
     "text": [
      "20\n"
     ]
    }
   ],
   "source": [
    "arr = np.array([10, 20, 30])\n",
    "print(arr[1])  # Access second value: 20"
   ]
  },
  {
   "cell_type": "markdown",
   "id": "e2a998c4-23d3-4891-97eb-c676eabae237",
   "metadata": {},
   "source": [
    "### b)Creating Arrays\n",
    "\n",
    "You can create arrays from Python lists, or generate special arrays (like zeros, ones, random numbers).\n",
    "\n",
    "**Uses**  \n",
    "To quickly build datasets and structures for computation."
   ]
  },
  {
   "cell_type": "code",
   "execution_count": 125,
   "id": "7cf9c7de-9d97-4f97-ad54-2719a1153089",
   "metadata": {},
   "outputs": [
    {
     "name": "stdout",
     "output_type": "stream",
     "text": [
      "[0. 0. 0.]\n",
      "[1. 1. 1. 1. 1.]\n",
      "[0.48063187 0.21968775 0.32342814 0.34021448]\n"
     ]
    }
   ],
   "source": [
    "zeros = np.zeros(3)         \n",
    "ones = np.ones(5)           \n",
    "rand = np.random.rand(4)   \n",
    "print(zeros)\n",
    "print(ones)\n",
    "print(rand)"
   ]
  },
  {
   "cell_type": "markdown",
   "id": "c8b300a9-4d26-47b7-b670-a9545b347ba8",
   "metadata": {},
   "source": [
    "## c) Array Indexing and Slicing\n",
    "\n",
    "Indexing lets you pick out specific numbers from an array. Slicing allows you to grab a part or chunk of an array.\n",
    "\n",
    "**Uses**  \n",
    "So you can examine, change, or analyze just certain rows or columns of data, like focusing on ages above 30.\n"
   ]
  },
  {
   "cell_type": "code",
   "execution_count": 130,
   "id": "f77a384d-ba1e-4fd8-878a-9549e1555dbb",
   "metadata": {},
   "outputs": [
    {
     "name": "stdout",
     "output_type": "stream",
     "text": [
      "[10 20 30]\n"
     ]
    }
   ],
   "source": [
    "arr = np.array([10, 20, 30, 40, 50])\n",
    "print(arr[:3])   "
   ]
  },
  {
   "cell_type": "markdown",
   "id": "183e84db-0522-4a01-b6ba-705a3da770d0",
   "metadata": {},
   "source": [
    "## 4. Array Operations\n",
    "\n",
    "NumPy allows you to do math directly on arrays—like adding a number to every value, multiplying two arrays together, or running calculations across all elements.\n",
    "\n",
    "**Uses**  \n",
    "It massively speeds up calculations—imagine adding 5 to every number in a million-value array in one go!"
   ]
  },
  {
   "cell_type": "code",
   "execution_count": 135,
   "id": "b40f0e94-8696-4f92-a12f-c33b6569de88",
   "metadata": {},
   "outputs": [
    {
     "name": "stdout",
     "output_type": "stream",
     "text": [
      "[11 22 33]\n",
      "[2 4 6]\n"
     ]
    }
   ],
   "source": [
    "arr = np.array([1, 2, 3])\n",
    "arr2 = np.array([10, 20, 30])\n",
    "print(arr + arr2)        \n",
    "print(arr * 2)           "
   ]
  },
  {
   "cell_type": "markdown",
   "id": "8ee0fb04-6b6d-4632-9a4b-48328065f698",
   "metadata": {},
   "source": [
    "## 5. Shape and Reshape\n",
    "\n",
    "Shape describes how many rows and columns an array has. Reshape changes the layout into new dimensions (2D table, for example).\n",
    "\n",
    "**Uses**  \n",
    "To prepare data for analyses, convert between rows and columns, or organize for machine learning."
   ]
  },
  {
   "cell_type": "code",
   "execution_count": 140,
   "id": "33898f61-6e52-4a05-9577-fde0558cfbb2",
   "metadata": {},
   "outputs": [
    {
     "name": "stdout",
     "output_type": "stream",
     "text": [
      "[[1 2 3]\n",
      " [4 5 6]]\n"
     ]
    }
   ],
   "source": [
    "a = np.array([1, 2, 3, 4, 5, 6])\n",
    "b = a.reshape((2, 3))      \n",
    "print(b)"
   ]
  },
  {
   "cell_type": "markdown",
   "id": "6cbcb105-15f7-4c6b-872a-44314a76cd4b",
   "metadata": {},
   "source": [
    "## 6. Aggregate Functions (Sum, Mean, Max, Min)\n",
    "\n",
    "Aggregate functions allow you to quickly summarize data—like getting the total sum, average (mean), biggest (max), or smallest (min) value in your array.\n",
    "\n",
    "**Uses**  \n",
    "These let you instantly understand or analyze your data set in useful ways."
   ]
  },
  {
   "cell_type": "code",
   "execution_count": 147,
   "id": "33621baf-faf4-45aa-bc44-f3a4a5da8332",
   "metadata": {},
   "outputs": [
    {
     "name": "stdout",
     "output_type": "stream",
     "text": [
      "15\n",
      "5.0\n",
      "7\n",
      "3\n"
     ]
    }
   ],
   "source": [
    "arr = np.array([3, 7, 5])\n",
    "print(np.sum(arr))  \n",
    "print(np.mean(arr)) \n",
    "print(np.max(arr))   \n",
    "print(np.min(arr))   "
   ]
  },
  {
   "cell_type": "markdown",
   "id": "19284e33-a3a1-4696-b1f2-a4a085500824",
   "metadata": {},
   "source": [
    "## 7. Broadcasting\n",
    "\n",
    "Broadcasting lets NumPy automatically extend smaller arrays so operations can be performed without writing loops. For example, adding a single value to every element of a big array.\n",
    "\n",
    "**Uses**  \n",
    "It saves time and code when working with arrays of different shapes."
   ]
  },
  {
   "cell_type": "markdown",
   "id": "5f7cd0be-1d79-462d-9e42-bcfa61928e39",
   "metadata": {},
   "source": [
    "arr = np.array([1, 2, 3])\n",
    "arr = arr + 5     \n",
    "print(arr)\n",
    "arr = np.array([1, 2, 3])\n",
    "arr = arr + 5     \n",
    "print(arr)"
   ]
  },
  {
   "cell_type": "markdown",
   "id": "5526ea5b-75d8-41d4-ab3c-221e322aa735",
   "metadata": {},
   "source": [
    "## 8. Multidimensional Arrays (Matrices)\n",
    "\n",
    "NumPy can handle 2D or more-dimensional arrays, making it perfect for working with tables (matrices), images, or higher-dimensional data.\n",
    "\n",
    "**Uses**  \n",
    "For scientific data, images, machine learning, and statistical tables."
   ]
  },
  {
   "cell_type": "code",
   "execution_count": 157,
   "id": "28b9902e-8470-44e3-bbf4-0c89d042ef44",
   "metadata": {},
   "outputs": [
    {
     "name": "stdout",
     "output_type": "stream",
     "text": [
      "2\n"
     ]
    }
   ],
   "source": [
    "matrix = np.array([[1, 2], [3, 4]])\n",
    "print(matrix[0, 1]) "
   ]
  },
  {
   "cell_type": "markdown",
   "id": "3e363afa-0c05-4770-9e97-5b86b7d801fb",
   "metadata": {},
   "source": [
    "## 9. Saving and Loading Arrays\n",
    "\n",
    "NumPy lets you save arrays to disk or load them again easily. This is useful when working with big data that you don’t want to recreate every time.\n",
    "\n",
    "**Uses**  \n",
    "For keeping and reusing work in long projects like analysis or machine learning."
   ]
  },
  {
   "cell_type": "code",
   "execution_count": 168,
   "id": "bc3d7193-707f-4759-8ab7-ee803f5ecde5",
   "metadata": {},
   "outputs": [
    {
     "name": "stdout",
     "output_type": "stream",
     "text": [
      "[1 2 3]\n"
     ]
    }
   ],
   "source": [
    "arr = np.array([1, 2, 3])\n",
    "np.save('my_array.npy', arr)     \n",
    "new_arr = np.load('my_array.npy')\n",
    "print(new_arr)"
   ]
  },
  {
   "cell_type": "markdown",
   "id": "8021562f-2027-4215-bb2a-f8aa6d11ac3b",
   "metadata": {},
   "source": [
    "## Pandas"
   ]
  },
  {
   "cell_type": "markdown",
   "id": "c67b76b5-6ad8-4ba9-91a4-eea3c2a80f6f",
   "metadata": {},
   "source": [
    "## 1. What is pandas?\n",
    "\n",
    "pandas is a Python library made for handling and analyzing data, usually in table form (think Excel sheets, CSV files, or SQL tables). It makes it easy to load, change, clean, and summarize big sets of data—with just a few commands.\n",
    "\n",
    "**Uses**  \n",
    "pandas turns messy or raw data into something easy to understand and analyze. It’s the go-to tool for data science, research, business analysis, and any work with rows and columns."
   ]
  },
  {
   "cell_type": "code",
   "execution_count": 262,
   "id": "a0ba1eb0-d1a0-4d05-b22c-01854bf79621",
   "metadata": {},
   "outputs": [
    {
     "name": "stdout",
     "output_type": "stream",
     "text": [
      "      name  score\n",
      "0  Athahar     88\n",
      "1      Sai     77\n"
     ]
    }
   ],
   "source": [
    "import pandas as pd\n",
    "data = pd.DataFrame({'name': ['Athahar', 'Sai'], 'score': [88, 77]})\n",
    "print(data)"
   ]
  },
  {
   "cell_type": "markdown",
   "id": "b588f5df-a7eb-4d79-bad4-6cad9c04d0cf",
   "metadata": {},
   "source": [
    "## 2. DataFrame and Series\n",
    "\n",
    "### a) DataFrame\n",
    "\n",
    "A DataFrame is pandas’ main table object—like a supercharged Excel spreadsheet, with rows and columns you can easily change or extract from.\n",
    "\n",
    "**Uses**  \n",
    "It helps you organize, clean, and analyze data from the real world (contacts, sales, experiment results).\n"
   ]
  },
  {
   "cell_type": "code",
   "execution_count": 265,
   "id": "4a79a79b-50f4-4e93-8944-96b78e90b61d",
   "metadata": {},
   "outputs": [
    {
     "name": "stdout",
     "output_type": "stream",
     "text": [
      "        City  Population\n",
      "0  Hyderabad           8\n",
      "1  Bangalore           4\n"
     ]
    }
   ],
   "source": [
    "df = pd.DataFrame({'City': ['Hyderabad', 'Bangalore'], 'Population': [8, 4]})\n",
    "print(df)"
   ]
  },
  {
   "cell_type": "markdown",
   "id": "f522c443-9086-41a7-bc24-c7b979db9981",
   "metadata": {},
   "source": [
    "### b) Series\n",
    "\n",
    "A Series is like a single column from a DataFrame—a list with labels.\n",
    "\n",
    "**Uses**  \n",
    "For handling just one set of data (like ages) or working with column-by-column operations."
   ]
  },
  {
   "cell_type": "code",
   "execution_count": 268,
   "id": "52d6030e-0871-44e3-96d0-b1d1e2411b7e",
   "metadata": {},
   "outputs": [
    {
     "name": "stdout",
     "output_type": "stream",
     "text": [
      "0    23\n",
      "1    35\n",
      "2    29\n",
      "dtype: int64\n"
     ]
    }
   ],
   "source": [
    "ages = pd.Series([23, 35, 29])\n",
    "print(ages)"
   ]
  },
  {
   "cell_type": "markdown",
   "id": "59122d67-e1c4-46d2-8adf-3971ebec8ddc",
   "metadata": {},
   "source": [
    "## 3. Reading and Writing Data\n",
    "\n",
    "### a) Reading CSV Files\n",
    "\n",
    "You can load data from CSV or Excel files (spreadsheets) directly into pandas for analysis.\n",
    "\n",
    "**Uses**  \n",
    "To quickly load real-world data into your code."
   ]
  },
  {
   "cell_type": "code",
   "execution_count": 271,
   "id": "762a100e-f54e-41ec-8e2c-655d847b5e12",
   "metadata": {},
   "outputs": [
    {
     "data": {
      "text/html": [
       "<div>\n",
       "<style scoped>\n",
       "    .dataframe tbody tr th:only-of-type {\n",
       "        vertical-align: middle;\n",
       "    }\n",
       "\n",
       "    .dataframe tbody tr th {\n",
       "        vertical-align: top;\n",
       "    }\n",
       "\n",
       "    .dataframe thead th {\n",
       "        text-align: right;\n",
       "    }\n",
       "</style>\n",
       "<table border=\"1\" class=\"dataframe\">\n",
       "  <thead>\n",
       "    <tr style=\"text-align: right;\">\n",
       "      <th></th>\n",
       "      <th>Call  Failure</th>\n",
       "      <th>Complains</th>\n",
       "      <th>Subscription  Length</th>\n",
       "      <th>Charge  Amount</th>\n",
       "      <th>Seconds of Use</th>\n",
       "      <th>Frequency of use</th>\n",
       "      <th>Frequency of SMS</th>\n",
       "      <th>Distinct Called Numbers</th>\n",
       "      <th>Age Group</th>\n",
       "      <th>Tariff Plan</th>\n",
       "      <th>Status</th>\n",
       "      <th>Age</th>\n",
       "      <th>Customer Value</th>\n",
       "      <th>Churn</th>\n",
       "    </tr>\n",
       "  </thead>\n",
       "  <tbody>\n",
       "    <tr>\n",
       "      <th>0</th>\n",
       "      <td>8</td>\n",
       "      <td>0</td>\n",
       "      <td>38</td>\n",
       "      <td>0</td>\n",
       "      <td>4370</td>\n",
       "      <td>71</td>\n",
       "      <td>5</td>\n",
       "      <td>17</td>\n",
       "      <td>3</td>\n",
       "      <td>1</td>\n",
       "      <td>1</td>\n",
       "      <td>30</td>\n",
       "      <td>197.640</td>\n",
       "      <td>0</td>\n",
       "    </tr>\n",
       "    <tr>\n",
       "      <th>1</th>\n",
       "      <td>0</td>\n",
       "      <td>0</td>\n",
       "      <td>39</td>\n",
       "      <td>0</td>\n",
       "      <td>318</td>\n",
       "      <td>5</td>\n",
       "      <td>7</td>\n",
       "      <td>4</td>\n",
       "      <td>2</td>\n",
       "      <td>1</td>\n",
       "      <td>2</td>\n",
       "      <td>25</td>\n",
       "      <td>46.035</td>\n",
       "      <td>0</td>\n",
       "    </tr>\n",
       "    <tr>\n",
       "      <th>2</th>\n",
       "      <td>10</td>\n",
       "      <td>0</td>\n",
       "      <td>37</td>\n",
       "      <td>0</td>\n",
       "      <td>2453</td>\n",
       "      <td>60</td>\n",
       "      <td>359</td>\n",
       "      <td>24</td>\n",
       "      <td>3</td>\n",
       "      <td>1</td>\n",
       "      <td>1</td>\n",
       "      <td>30</td>\n",
       "      <td>1536.520</td>\n",
       "      <td>0</td>\n",
       "    </tr>\n",
       "    <tr>\n",
       "      <th>3</th>\n",
       "      <td>10</td>\n",
       "      <td>0</td>\n",
       "      <td>38</td>\n",
       "      <td>0</td>\n",
       "      <td>4198</td>\n",
       "      <td>66</td>\n",
       "      <td>1</td>\n",
       "      <td>35</td>\n",
       "      <td>1</td>\n",
       "      <td>1</td>\n",
       "      <td>1</td>\n",
       "      <td>15</td>\n",
       "      <td>240.020</td>\n",
       "      <td>0</td>\n",
       "    </tr>\n",
       "    <tr>\n",
       "      <th>4</th>\n",
       "      <td>3</td>\n",
       "      <td>0</td>\n",
       "      <td>38</td>\n",
       "      <td>0</td>\n",
       "      <td>2393</td>\n",
       "      <td>58</td>\n",
       "      <td>2</td>\n",
       "      <td>33</td>\n",
       "      <td>1</td>\n",
       "      <td>1</td>\n",
       "      <td>1</td>\n",
       "      <td>15</td>\n",
       "      <td>145.805</td>\n",
       "      <td>0</td>\n",
       "    </tr>\n",
       "  </tbody>\n",
       "</table>\n",
       "</div>"
      ],
      "text/plain": [
       "   Call  Failure  Complains  Subscription  Length  Charge  Amount  \\\n",
       "0              8          0                    38               0   \n",
       "1              0          0                    39               0   \n",
       "2             10          0                    37               0   \n",
       "3             10          0                    38               0   \n",
       "4              3          0                    38               0   \n",
       "\n",
       "   Seconds of Use  Frequency of use  Frequency of SMS  \\\n",
       "0            4370                71                 5   \n",
       "1             318                 5                 7   \n",
       "2            2453                60               359   \n",
       "3            4198                66                 1   \n",
       "4            2393                58                 2   \n",
       "\n",
       "   Distinct Called Numbers  Age Group  Tariff Plan  Status  Age  \\\n",
       "0                       17          3            1       1   30   \n",
       "1                        4          2            1       2   25   \n",
       "2                       24          3            1       1   30   \n",
       "3                       35          1            1       1   15   \n",
       "4                       33          1            1       1   15   \n",
       "\n",
       "   Customer Value  Churn  \n",
       "0         197.640      0  \n",
       "1          46.035      0  \n",
       "2        1536.520      0  \n",
       "3         240.020      0  \n",
       "4         145.805      0  "
      ]
     },
     "execution_count": 271,
     "metadata": {},
     "output_type": "execute_result"
    }
   ],
   "source": [
    "df = pd.read_csv(\"churn.csv\")\n",
    "df.head()"
   ]
  },
  {
   "cell_type": "markdown",
   "id": "d286124f-52bf-4e8f-aaf9-9919a3ea72b5",
   "metadata": {},
   "source": [
    "### b) Writing to CSV Files\n",
    "\n",
    "Saves your processed data back to CSV, so you can share or reuse it.\n",
    "\n",
    "**Uses**  \n",
    "For saving results, exporting cleaned data, or sharing findings."
   ]
  },
  {
   "cell_type": "code",
   "execution_count": 274,
   "id": "daac1638-b37d-462b-90af-325cd7bf0cee",
   "metadata": {},
   "outputs": [],
   "source": [
    "df.to_csv('results.csv', index=False)"
   ]
  },
  {
   "cell_type": "markdown",
   "id": "ab758741-6624-4f7e-9b9d-1d90bb6801c9",
   "metadata": {},
   "source": [
    "## 4. Selecting Data\n",
    "\n",
    "You can easily select specific rows or columns using labels or numbers—just like in a spreadsheet.\n",
    "\n",
    "**Uses**  \n",
    "To focus on interesting or important parts of your data."
   ]
  },
  {
   "cell_type": "code",
   "execution_count": 277,
   "id": "3d11967f-0dbb-49ad-9cfb-9a9435919257",
   "metadata": {},
   "outputs": [
    {
     "name": "stdout",
     "output_type": "stream",
     "text": [
      "0       30\n",
      "1       25\n",
      "2       30\n",
      "3       15\n",
      "4       15\n",
      "        ..\n",
      "3145    25\n",
      "3146    55\n",
      "3147    30\n",
      "3148    30\n",
      "3149    30\n",
      "Name: Age, Length: 3150, dtype: int64\n",
      "Call  Failure                 8.00\n",
      "Complains                     0.00\n",
      "Subscription  Length         38.00\n",
      "Charge  Amount                0.00\n",
      "Seconds of Use             4370.00\n",
      "Frequency of use             71.00\n",
      "Frequency of SMS              5.00\n",
      "Distinct Called Numbers      17.00\n",
      "Age Group                     3.00\n",
      "Tariff Plan                   1.00\n",
      "Status                        1.00\n",
      "Age                          30.00\n",
      "Customer Value              197.64\n",
      "Churn                         0.00\n",
      "Name: 0, dtype: float64\n"
     ]
    },
    {
     "data": {
      "text/plain": [
       "[['Age', 'Status']]"
      ]
     },
     "execution_count": 277,
     "metadata": {},
     "output_type": "execute_result"
    }
   ],
   "source": [
    "print(df['Age'])         \n",
    "print(df.iloc[0])     \n",
    "[['Age', 'Status']]"
   ]
  },
  {
   "cell_type": "markdown",
   "id": "08b0f2f8-8a7c-473d-ab5f-c6b71dd7f8a7",
   "metadata": {},
   "source": [
    "## 5. Filtering Data\n",
    "\n",
    "Filtering means picking out only the rows or values that meet certain conditions.\n",
    "\n",
    "**Uses**  \n",
    "Find important data, like high scores or locations above a certain population."
   ]
  },
  {
   "cell_type": "code",
   "execution_count": 280,
   "id": "e4f7def7-93ff-436b-805f-36deedba9b20",
   "metadata": {},
   "outputs": [
    {
     "data": {
      "text/html": [
       "<div>\n",
       "<style scoped>\n",
       "    .dataframe tbody tr th:only-of-type {\n",
       "        vertical-align: middle;\n",
       "    }\n",
       "\n",
       "    .dataframe tbody tr th {\n",
       "        vertical-align: top;\n",
       "    }\n",
       "\n",
       "    .dataframe thead th {\n",
       "        text-align: right;\n",
       "    }\n",
       "</style>\n",
       "<table border=\"1\" class=\"dataframe\">\n",
       "  <thead>\n",
       "    <tr style=\"text-align: right;\">\n",
       "      <th></th>\n",
       "      <th>Call  Failure</th>\n",
       "      <th>Complains</th>\n",
       "      <th>Subscription  Length</th>\n",
       "      <th>Charge  Amount</th>\n",
       "      <th>Seconds of Use</th>\n",
       "      <th>Frequency of use</th>\n",
       "      <th>Frequency of SMS</th>\n",
       "      <th>Distinct Called Numbers</th>\n",
       "      <th>Age Group</th>\n",
       "      <th>Tariff Plan</th>\n",
       "      <th>Status</th>\n",
       "      <th>Age</th>\n",
       "      <th>Customer Value</th>\n",
       "      <th>Churn</th>\n",
       "    </tr>\n",
       "  </thead>\n",
       "  <tbody>\n",
       "    <tr>\n",
       "      <th>20</th>\n",
       "      <td>7</td>\n",
       "      <td>0</td>\n",
       "      <td>37</td>\n",
       "      <td>1</td>\n",
       "      <td>11465</td>\n",
       "      <td>154</td>\n",
       "      <td>11</td>\n",
       "      <td>47</td>\n",
       "      <td>4</td>\n",
       "      <td>1</td>\n",
       "      <td>1</td>\n",
       "      <td>45</td>\n",
       "      <td>317.975</td>\n",
       "      <td>0</td>\n",
       "    </tr>\n",
       "    <tr>\n",
       "      <th>23</th>\n",
       "      <td>21</td>\n",
       "      <td>1</td>\n",
       "      <td>36</td>\n",
       "      <td>8</td>\n",
       "      <td>10435</td>\n",
       "      <td>93</td>\n",
       "      <td>1</td>\n",
       "      <td>42</td>\n",
       "      <td>5</td>\n",
       "      <td>2</td>\n",
       "      <td>1</td>\n",
       "      <td>55</td>\n",
       "      <td>159.420</td>\n",
       "      <td>0</td>\n",
       "    </tr>\n",
       "    <tr>\n",
       "      <th>30</th>\n",
       "      <td>3</td>\n",
       "      <td>0</td>\n",
       "      <td>33</td>\n",
       "      <td>1</td>\n",
       "      <td>6785</td>\n",
       "      <td>97</td>\n",
       "      <td>14</td>\n",
       "      <td>22</td>\n",
       "      <td>5</td>\n",
       "      <td>1</td>\n",
       "      <td>1</td>\n",
       "      <td>55</td>\n",
       "      <td>124.230</td>\n",
       "      <td>0</td>\n",
       "    </tr>\n",
       "    <tr>\n",
       "      <th>31</th>\n",
       "      <td>0</td>\n",
       "      <td>1</td>\n",
       "      <td>36</td>\n",
       "      <td>0</td>\n",
       "      <td>628</td>\n",
       "      <td>7</td>\n",
       "      <td>9</td>\n",
       "      <td>4</td>\n",
       "      <td>4</td>\n",
       "      <td>1</td>\n",
       "      <td>2</td>\n",
       "      <td>45</td>\n",
       "      <td>38.375</td>\n",
       "      <td>1</td>\n",
       "    </tr>\n",
       "    <tr>\n",
       "      <th>32</th>\n",
       "      <td>0</td>\n",
       "      <td>0</td>\n",
       "      <td>36</td>\n",
       "      <td>1</td>\n",
       "      <td>338</td>\n",
       "      <td>4</td>\n",
       "      <td>4</td>\n",
       "      <td>2</td>\n",
       "      <td>5</td>\n",
       "      <td>1</td>\n",
       "      <td>1</td>\n",
       "      <td>55</td>\n",
       "      <td>11.130</td>\n",
       "      <td>0</td>\n",
       "    </tr>\n",
       "    <tr>\n",
       "      <th>...</th>\n",
       "      <td>...</td>\n",
       "      <td>...</td>\n",
       "      <td>...</td>\n",
       "      <td>...</td>\n",
       "      <td>...</td>\n",
       "      <td>...</td>\n",
       "      <td>...</td>\n",
       "      <td>...</td>\n",
       "      <td>...</td>\n",
       "      <td>...</td>\n",
       "      <td>...</td>\n",
       "      <td>...</td>\n",
       "      <td>...</td>\n",
       "      <td>...</td>\n",
       "    </tr>\n",
       "    <tr>\n",
       "      <th>3131</th>\n",
       "      <td>5</td>\n",
       "      <td>1</td>\n",
       "      <td>38</td>\n",
       "      <td>0</td>\n",
       "      <td>933</td>\n",
       "      <td>13</td>\n",
       "      <td>16</td>\n",
       "      <td>6</td>\n",
       "      <td>4</td>\n",
       "      <td>1</td>\n",
       "      <td>2</td>\n",
       "      <td>45</td>\n",
       "      <td>63.650</td>\n",
       "      <td>1</td>\n",
       "    </tr>\n",
       "    <tr>\n",
       "      <th>3132</th>\n",
       "      <td>5</td>\n",
       "      <td>0</td>\n",
       "      <td>38</td>\n",
       "      <td>2</td>\n",
       "      <td>643</td>\n",
       "      <td>10</td>\n",
       "      <td>11</td>\n",
       "      <td>4</td>\n",
       "      <td>5</td>\n",
       "      <td>1</td>\n",
       "      <td>1</td>\n",
       "      <td>55</td>\n",
       "      <td>26.295</td>\n",
       "      <td>0</td>\n",
       "    </tr>\n",
       "    <tr>\n",
       "      <th>3139</th>\n",
       "      <td>9</td>\n",
       "      <td>0</td>\n",
       "      <td>28</td>\n",
       "      <td>1</td>\n",
       "      <td>1873</td>\n",
       "      <td>45</td>\n",
       "      <td>37</td>\n",
       "      <td>70</td>\n",
       "      <td>5</td>\n",
       "      <td>1</td>\n",
       "      <td>1</td>\n",
       "      <td>55</td>\n",
       "      <td>84.270</td>\n",
       "      <td>0</td>\n",
       "    </tr>\n",
       "    <tr>\n",
       "      <th>3141</th>\n",
       "      <td>5</td>\n",
       "      <td>0</td>\n",
       "      <td>28</td>\n",
       "      <td>0</td>\n",
       "      <td>1130</td>\n",
       "      <td>16</td>\n",
       "      <td>28</td>\n",
       "      <td>5</td>\n",
       "      <td>4</td>\n",
       "      <td>1</td>\n",
       "      <td>2</td>\n",
       "      <td>45</td>\n",
       "      <td>98.650</td>\n",
       "      <td>0</td>\n",
       "    </tr>\n",
       "    <tr>\n",
       "      <th>3146</th>\n",
       "      <td>17</td>\n",
       "      <td>0</td>\n",
       "      <td>17</td>\n",
       "      <td>1</td>\n",
       "      <td>9237</td>\n",
       "      <td>177</td>\n",
       "      <td>80</td>\n",
       "      <td>42</td>\n",
       "      <td>5</td>\n",
       "      <td>1</td>\n",
       "      <td>1</td>\n",
       "      <td>55</td>\n",
       "      <td>261.210</td>\n",
       "      <td>0</td>\n",
       "    </tr>\n",
       "  </tbody>\n",
       "</table>\n",
       "<p>565 rows × 14 columns</p>\n",
       "</div>"
      ],
      "text/plain": [
       "      Call  Failure  Complains  Subscription  Length  Charge  Amount  \\\n",
       "20                7          0                    37               1   \n",
       "23               21          1                    36               8   \n",
       "30                3          0                    33               1   \n",
       "31                0          1                    36               0   \n",
       "32                0          0                    36               1   \n",
       "...             ...        ...                   ...             ...   \n",
       "3131              5          1                    38               0   \n",
       "3132              5          0                    38               2   \n",
       "3139              9          0                    28               1   \n",
       "3141              5          0                    28               0   \n",
       "3146             17          0                    17               1   \n",
       "\n",
       "      Seconds of Use  Frequency of use  Frequency of SMS  \\\n",
       "20             11465               154                11   \n",
       "23             10435                93                 1   \n",
       "30              6785                97                14   \n",
       "31               628                 7                 9   \n",
       "32               338                 4                 4   \n",
       "...              ...               ...               ...   \n",
       "3131             933                13                16   \n",
       "3132             643                10                11   \n",
       "3139            1873                45                37   \n",
       "3141            1130                16                28   \n",
       "3146            9237               177                80   \n",
       "\n",
       "      Distinct Called Numbers  Age Group  Tariff Plan  Status  Age  \\\n",
       "20                         47          4            1       1   45   \n",
       "23                         42          5            2       1   55   \n",
       "30                         22          5            1       1   55   \n",
       "31                          4          4            1       2   45   \n",
       "32                          2          5            1       1   55   \n",
       "...                       ...        ...          ...     ...  ...   \n",
       "3131                        6          4            1       2   45   \n",
       "3132                        4          5            1       1   55   \n",
       "3139                       70          5            1       1   55   \n",
       "3141                        5          4            1       2   45   \n",
       "3146                       42          5            1       1   55   \n",
       "\n",
       "      Customer Value  Churn  \n",
       "20           317.975      0  \n",
       "23           159.420      0  \n",
       "30           124.230      0  \n",
       "31            38.375      1  \n",
       "32            11.130      0  \n",
       "...              ...    ...  \n",
       "3131          63.650      1  \n",
       "3132          26.295      0  \n",
       "3139          84.270      0  \n",
       "3141          98.650      0  \n",
       "3146         261.210      0  \n",
       "\n",
       "[565 rows x 14 columns]"
      ]
     },
     "execution_count": 280,
     "metadata": {},
     "output_type": "execute_result"
    }
   ],
   "source": [
    "aged_people = df[df['Age'] > 35]\n",
    "aged_people"
   ]
  },
  {
   "cell_type": "markdown",
   "id": "50f911c0-9326-477a-a9a2-9693c70bbe15",
   "metadata": {},
   "source": [
    "## 6. Adding and Removing Columns\n",
    "\n",
    "pandas lets you create new columns (from calculations) or remove columns you don’t need.\n",
    "\n",
    "**Uses**  \n",
    "To tidy up or add useful metrics to your dataset."
   ]
  },
  {
   "cell_type": "code",
   "execution_count": 283,
   "id": "555e2c87-f881-4be2-b777-f28750881720",
   "metadata": {},
   "outputs": [
    {
     "data": {
      "text/html": [
       "<div>\n",
       "<style scoped>\n",
       "    .dataframe tbody tr th:only-of-type {\n",
       "        vertical-align: middle;\n",
       "    }\n",
       "\n",
       "    .dataframe tbody tr th {\n",
       "        vertical-align: top;\n",
       "    }\n",
       "\n",
       "    .dataframe thead th {\n",
       "        text-align: right;\n",
       "    }\n",
       "</style>\n",
       "<table border=\"1\" class=\"dataframe\">\n",
       "  <thead>\n",
       "    <tr style=\"text-align: right;\">\n",
       "      <th></th>\n",
       "      <th>Call  Failure</th>\n",
       "      <th>Complains</th>\n",
       "      <th>Subscription  Length</th>\n",
       "      <th>Charge  Amount</th>\n",
       "      <th>Seconds of Use</th>\n",
       "      <th>Frequency of use</th>\n",
       "      <th>Frequency of SMS</th>\n",
       "      <th>Distinct Called Numbers</th>\n",
       "      <th>Age Group</th>\n",
       "      <th>Tariff Plan</th>\n",
       "      <th>Status</th>\n",
       "      <th>Age</th>\n",
       "      <th>Customer Value</th>\n",
       "      <th>Churn</th>\n",
       "      <th>new_customer_value</th>\n",
       "    </tr>\n",
       "  </thead>\n",
       "  <tbody>\n",
       "    <tr>\n",
       "      <th>0</th>\n",
       "      <td>8</td>\n",
       "      <td>0</td>\n",
       "      <td>38</td>\n",
       "      <td>0</td>\n",
       "      <td>4370</td>\n",
       "      <td>71</td>\n",
       "      <td>5</td>\n",
       "      <td>17</td>\n",
       "      <td>3</td>\n",
       "      <td>1</td>\n",
       "      <td>1</td>\n",
       "      <td>30</td>\n",
       "      <td>197.640</td>\n",
       "      <td>0</td>\n",
       "      <td>98.8200</td>\n",
       "    </tr>\n",
       "    <tr>\n",
       "      <th>1</th>\n",
       "      <td>0</td>\n",
       "      <td>0</td>\n",
       "      <td>39</td>\n",
       "      <td>0</td>\n",
       "      <td>318</td>\n",
       "      <td>5</td>\n",
       "      <td>7</td>\n",
       "      <td>4</td>\n",
       "      <td>2</td>\n",
       "      <td>1</td>\n",
       "      <td>2</td>\n",
       "      <td>25</td>\n",
       "      <td>46.035</td>\n",
       "      <td>0</td>\n",
       "      <td>23.0175</td>\n",
       "    </tr>\n",
       "    <tr>\n",
       "      <th>2</th>\n",
       "      <td>10</td>\n",
       "      <td>0</td>\n",
       "      <td>37</td>\n",
       "      <td>0</td>\n",
       "      <td>2453</td>\n",
       "      <td>60</td>\n",
       "      <td>359</td>\n",
       "      <td>24</td>\n",
       "      <td>3</td>\n",
       "      <td>1</td>\n",
       "      <td>1</td>\n",
       "      <td>30</td>\n",
       "      <td>1536.520</td>\n",
       "      <td>0</td>\n",
       "      <td>768.2600</td>\n",
       "    </tr>\n",
       "    <tr>\n",
       "      <th>3</th>\n",
       "      <td>10</td>\n",
       "      <td>0</td>\n",
       "      <td>38</td>\n",
       "      <td>0</td>\n",
       "      <td>4198</td>\n",
       "      <td>66</td>\n",
       "      <td>1</td>\n",
       "      <td>35</td>\n",
       "      <td>1</td>\n",
       "      <td>1</td>\n",
       "      <td>1</td>\n",
       "      <td>15</td>\n",
       "      <td>240.020</td>\n",
       "      <td>0</td>\n",
       "      <td>120.0100</td>\n",
       "    </tr>\n",
       "    <tr>\n",
       "      <th>4</th>\n",
       "      <td>3</td>\n",
       "      <td>0</td>\n",
       "      <td>38</td>\n",
       "      <td>0</td>\n",
       "      <td>2393</td>\n",
       "      <td>58</td>\n",
       "      <td>2</td>\n",
       "      <td>33</td>\n",
       "      <td>1</td>\n",
       "      <td>1</td>\n",
       "      <td>1</td>\n",
       "      <td>15</td>\n",
       "      <td>145.805</td>\n",
       "      <td>0</td>\n",
       "      <td>72.9025</td>\n",
       "    </tr>\n",
       "  </tbody>\n",
       "</table>\n",
       "</div>"
      ],
      "text/plain": [
       "   Call  Failure  Complains  Subscription  Length  Charge  Amount  \\\n",
       "0              8          0                    38               0   \n",
       "1              0          0                    39               0   \n",
       "2             10          0                    37               0   \n",
       "3             10          0                    38               0   \n",
       "4              3          0                    38               0   \n",
       "\n",
       "   Seconds of Use  Frequency of use  Frequency of SMS  \\\n",
       "0            4370                71                 5   \n",
       "1             318                 5                 7   \n",
       "2            2453                60               359   \n",
       "3            4198                66                 1   \n",
       "4            2393                58                 2   \n",
       "\n",
       "   Distinct Called Numbers  Age Group  Tariff Plan  Status  Age  \\\n",
       "0                       17          3            1       1   30   \n",
       "1                        4          2            1       2   25   \n",
       "2                       24          3            1       1   30   \n",
       "3                       35          1            1       1   15   \n",
       "4                       33          1            1       1   15   \n",
       "\n",
       "   Customer Value  Churn  new_customer_value  \n",
       "0         197.640      0             98.8200  \n",
       "1          46.035      0             23.0175  \n",
       "2        1536.520      0            768.2600  \n",
       "3         240.020      0            120.0100  \n",
       "4         145.805      0             72.9025  "
      ]
     },
     "execution_count": 283,
     "metadata": {},
     "output_type": "execute_result"
    }
   ],
   "source": [
    "df[\"new_customer_value\"] = df[\"Customer Value\"]/2\n",
    "df.head()"
   ]
  },
  {
   "cell_type": "code",
   "execution_count": 285,
   "id": "4b659c99-be15-4ac4-a0a2-e51e3eb6844a",
   "metadata": {},
   "outputs": [
    {
     "data": {
      "text/html": [
       "<div>\n",
       "<style scoped>\n",
       "    .dataframe tbody tr th:only-of-type {\n",
       "        vertical-align: middle;\n",
       "    }\n",
       "\n",
       "    .dataframe tbody tr th {\n",
       "        vertical-align: top;\n",
       "    }\n",
       "\n",
       "    .dataframe thead th {\n",
       "        text-align: right;\n",
       "    }\n",
       "</style>\n",
       "<table border=\"1\" class=\"dataframe\">\n",
       "  <thead>\n",
       "    <tr style=\"text-align: right;\">\n",
       "      <th></th>\n",
       "      <th>Call  Failure</th>\n",
       "      <th>Complains</th>\n",
       "      <th>Subscription  Length</th>\n",
       "      <th>Charge  Amount</th>\n",
       "      <th>Seconds of Use</th>\n",
       "      <th>Frequency of use</th>\n",
       "      <th>Frequency of SMS</th>\n",
       "      <th>Distinct Called Numbers</th>\n",
       "      <th>Age Group</th>\n",
       "      <th>Tariff Plan</th>\n",
       "      <th>Status</th>\n",
       "      <th>Age</th>\n",
       "      <th>Customer Value</th>\n",
       "      <th>Churn</th>\n",
       "    </tr>\n",
       "  </thead>\n",
       "  <tbody>\n",
       "    <tr>\n",
       "      <th>0</th>\n",
       "      <td>8</td>\n",
       "      <td>0</td>\n",
       "      <td>38</td>\n",
       "      <td>0</td>\n",
       "      <td>4370</td>\n",
       "      <td>71</td>\n",
       "      <td>5</td>\n",
       "      <td>17</td>\n",
       "      <td>3</td>\n",
       "      <td>1</td>\n",
       "      <td>1</td>\n",
       "      <td>30</td>\n",
       "      <td>197.640</td>\n",
       "      <td>0</td>\n",
       "    </tr>\n",
       "    <tr>\n",
       "      <th>1</th>\n",
       "      <td>0</td>\n",
       "      <td>0</td>\n",
       "      <td>39</td>\n",
       "      <td>0</td>\n",
       "      <td>318</td>\n",
       "      <td>5</td>\n",
       "      <td>7</td>\n",
       "      <td>4</td>\n",
       "      <td>2</td>\n",
       "      <td>1</td>\n",
       "      <td>2</td>\n",
       "      <td>25</td>\n",
       "      <td>46.035</td>\n",
       "      <td>0</td>\n",
       "    </tr>\n",
       "    <tr>\n",
       "      <th>2</th>\n",
       "      <td>10</td>\n",
       "      <td>0</td>\n",
       "      <td>37</td>\n",
       "      <td>0</td>\n",
       "      <td>2453</td>\n",
       "      <td>60</td>\n",
       "      <td>359</td>\n",
       "      <td>24</td>\n",
       "      <td>3</td>\n",
       "      <td>1</td>\n",
       "      <td>1</td>\n",
       "      <td>30</td>\n",
       "      <td>1536.520</td>\n",
       "      <td>0</td>\n",
       "    </tr>\n",
       "    <tr>\n",
       "      <th>3</th>\n",
       "      <td>10</td>\n",
       "      <td>0</td>\n",
       "      <td>38</td>\n",
       "      <td>0</td>\n",
       "      <td>4198</td>\n",
       "      <td>66</td>\n",
       "      <td>1</td>\n",
       "      <td>35</td>\n",
       "      <td>1</td>\n",
       "      <td>1</td>\n",
       "      <td>1</td>\n",
       "      <td>15</td>\n",
       "      <td>240.020</td>\n",
       "      <td>0</td>\n",
       "    </tr>\n",
       "    <tr>\n",
       "      <th>4</th>\n",
       "      <td>3</td>\n",
       "      <td>0</td>\n",
       "      <td>38</td>\n",
       "      <td>0</td>\n",
       "      <td>2393</td>\n",
       "      <td>58</td>\n",
       "      <td>2</td>\n",
       "      <td>33</td>\n",
       "      <td>1</td>\n",
       "      <td>1</td>\n",
       "      <td>1</td>\n",
       "      <td>15</td>\n",
       "      <td>145.805</td>\n",
       "      <td>0</td>\n",
       "    </tr>\n",
       "  </tbody>\n",
       "</table>\n",
       "</div>"
      ],
      "text/plain": [
       "   Call  Failure  Complains  Subscription  Length  Charge  Amount  \\\n",
       "0              8          0                    38               0   \n",
       "1              0          0                    39               0   \n",
       "2             10          0                    37               0   \n",
       "3             10          0                    38               0   \n",
       "4              3          0                    38               0   \n",
       "\n",
       "   Seconds of Use  Frequency of use  Frequency of SMS  \\\n",
       "0            4370                71                 5   \n",
       "1             318                 5                 7   \n",
       "2            2453                60               359   \n",
       "3            4198                66                 1   \n",
       "4            2393                58                 2   \n",
       "\n",
       "   Distinct Called Numbers  Age Group  Tariff Plan  Status  Age  \\\n",
       "0                       17          3            1       1   30   \n",
       "1                        4          2            1       2   25   \n",
       "2                       24          3            1       1   30   \n",
       "3                       35          1            1       1   15   \n",
       "4                       33          1            1       1   15   \n",
       "\n",
       "   Customer Value  Churn  \n",
       "0         197.640      0  \n",
       "1          46.035      0  \n",
       "2        1536.520      0  \n",
       "3         240.020      0  \n",
       "4         145.805      0  "
      ]
     },
     "execution_count": 285,
     "metadata": {},
     "output_type": "execute_result"
    }
   ],
   "source": [
    "del df[\"new_customer_value\"]\n",
    "df.head()"
   ]
  },
  {
   "cell_type": "markdown",
   "id": "3f54a928-78d8-4e45-8b24-48ec471dbfc5",
   "metadata": {},
   "source": [
    "## 7. Handling Missing Data\n",
    "\n",
    "Real data often has missing values. pandas can find and fill (or drop) these empty spots easily.\n",
    "\n",
    "**Uses**  \n",
    "To clean data for analysis or machine learning."
   ]
  },
  {
   "cell_type": "code",
   "execution_count": 288,
   "id": "0216bcb3-cd81-43ce-bb86-f10d8234aa4c",
   "metadata": {},
   "outputs": [
    {
     "name": "stdout",
     "output_type": "stream",
     "text": [
      "     A    B\n",
      "0  1.0  4.0\n",
      "1  0.0  5.0\n",
      "2  3.0  0.0\n",
      "     A    B\n",
      "0  1.0  4.0\n"
     ]
    }
   ],
   "source": [
    "df_with_nan = pd.DataFrame({'A': [1, None, 3], 'B': [4, 5, None]})\n",
    "print(df_with_nan.fillna(0)) \n",
    "print(df_with_nan.dropna())   "
   ]
  },
  {
   "cell_type": "markdown",
   "id": "1eed8847-dcb5-4867-aea2-cf8b208943df",
   "metadata": {},
   "source": [
    "## 8. Grouping and Aggregation\n",
    "\n",
    "Grouping clusters your data by some value (like city or month), letting you calculate summaries for each group.\n",
    "\n",
    "**Uses**  \n",
    "To summarize, compare, or analyze trends by category."
   ]
  },
  {
   "cell_type": "code",
   "execution_count": 291,
   "id": "92680d90-00ea-4e0f-b039-e564237edd18",
   "metadata": {},
   "outputs": [
    {
     "name": "stdout",
     "output_type": "stream",
     "text": [
      "Team\n",
      "A    40\n",
      "B    20\n",
      "Name: Points, dtype: int64\n"
     ]
    }
   ],
   "source": [
    "scores = pd.DataFrame({'Team': ['A', 'B', 'A'], 'Points': [10, 20, 30]})\n",
    "team_totals = scores.groupby('Team')['Points'].sum()\n",
    "print(team_totals)"
   ]
  },
  {
   "cell_type": "markdown",
   "id": "7109d359-b684-480f-8dd8-36431fb3793f",
   "metadata": {},
   "source": [
    "## 9. Sorting Data\n",
    "\n",
    "pandas can arrange your table by values in any column, alphabetically or by size.\n",
    "\n",
    "**Uses**  \n",
    "To see the biggest, smallest, or otherwise organize your dataset."
   ]
  },
  {
   "cell_type": "code",
   "execution_count": 294,
   "id": "1767d18e-27cf-4ce2-8a61-32175aefe472",
   "metadata": {},
   "outputs": [
    {
     "data": {
      "text/html": [
       "<div>\n",
       "<style scoped>\n",
       "    .dataframe tbody tr th:only-of-type {\n",
       "        vertical-align: middle;\n",
       "    }\n",
       "\n",
       "    .dataframe tbody tr th {\n",
       "        vertical-align: top;\n",
       "    }\n",
       "\n",
       "    .dataframe thead th {\n",
       "        text-align: right;\n",
       "    }\n",
       "</style>\n",
       "<table border=\"1\" class=\"dataframe\">\n",
       "  <thead>\n",
       "    <tr style=\"text-align: right;\">\n",
       "      <th></th>\n",
       "      <th>Call  Failure</th>\n",
       "      <th>Complains</th>\n",
       "      <th>Subscription  Length</th>\n",
       "      <th>Charge  Amount</th>\n",
       "      <th>Seconds of Use</th>\n",
       "      <th>Frequency of use</th>\n",
       "      <th>Frequency of SMS</th>\n",
       "      <th>Distinct Called Numbers</th>\n",
       "      <th>Age Group</th>\n",
       "      <th>Tariff Plan</th>\n",
       "      <th>Status</th>\n",
       "      <th>Age</th>\n",
       "      <th>Customer Value</th>\n",
       "      <th>Churn</th>\n",
       "    </tr>\n",
       "  </thead>\n",
       "  <tbody>\n",
       "    <tr>\n",
       "      <th>2983</th>\n",
       "      <td>36</td>\n",
       "      <td>0</td>\n",
       "      <td>34</td>\n",
       "      <td>5</td>\n",
       "      <td>17090</td>\n",
       "      <td>255</td>\n",
       "      <td>15</td>\n",
       "      <td>82</td>\n",
       "      <td>2</td>\n",
       "      <td>2</td>\n",
       "      <td>1</td>\n",
       "      <td>25</td>\n",
       "      <td>848.025</td>\n",
       "      <td>0</td>\n",
       "    </tr>\n",
       "    <tr>\n",
       "      <th>2583</th>\n",
       "      <td>34</td>\n",
       "      <td>0</td>\n",
       "      <td>33</td>\n",
       "      <td>6</td>\n",
       "      <td>16980</td>\n",
       "      <td>254</td>\n",
       "      <td>28</td>\n",
       "      <td>97</td>\n",
       "      <td>2</td>\n",
       "      <td>2</td>\n",
       "      <td>1</td>\n",
       "      <td>25</td>\n",
       "      <td>901.530</td>\n",
       "      <td>0</td>\n",
       "    </tr>\n",
       "    <tr>\n",
       "      <th>883</th>\n",
       "      <td>31</td>\n",
       "      <td>1</td>\n",
       "      <td>32</td>\n",
       "      <td>4</td>\n",
       "      <td>16785</td>\n",
       "      <td>249</td>\n",
       "      <td>8</td>\n",
       "      <td>80</td>\n",
       "      <td>2</td>\n",
       "      <td>1</td>\n",
       "      <td>1</td>\n",
       "      <td>25</td>\n",
       "      <td>802.530</td>\n",
       "      <td>0</td>\n",
       "    </tr>\n",
       "    <tr>\n",
       "      <th>483</th>\n",
       "      <td>29</td>\n",
       "      <td>0</td>\n",
       "      <td>31</td>\n",
       "      <td>5</td>\n",
       "      <td>16675</td>\n",
       "      <td>248</td>\n",
       "      <td>21</td>\n",
       "      <td>95</td>\n",
       "      <td>2</td>\n",
       "      <td>1</td>\n",
       "      <td>1</td>\n",
       "      <td>25</td>\n",
       "      <td>856.035</td>\n",
       "      <td>0</td>\n",
       "    </tr>\n",
       "    <tr>\n",
       "      <th>2383</th>\n",
       "      <td>35</td>\n",
       "      <td>0</td>\n",
       "      <td>39</td>\n",
       "      <td>5</td>\n",
       "      <td>16640</td>\n",
       "      <td>254</td>\n",
       "      <td>22</td>\n",
       "      <td>88</td>\n",
       "      <td>2</td>\n",
       "      <td>2</td>\n",
       "      <td>1</td>\n",
       "      <td>25</td>\n",
       "      <td>859.230</td>\n",
       "      <td>0</td>\n",
       "    </tr>\n",
       "  </tbody>\n",
       "</table>\n",
       "</div>"
      ],
      "text/plain": [
       "      Call  Failure  Complains  Subscription  Length  Charge  Amount  \\\n",
       "2983             36          0                    34               5   \n",
       "2583             34          0                    33               6   \n",
       "883              31          1                    32               4   \n",
       "483              29          0                    31               5   \n",
       "2383             35          0                    39               5   \n",
       "\n",
       "      Seconds of Use  Frequency of use  Frequency of SMS  \\\n",
       "2983           17090               255                15   \n",
       "2583           16980               254                28   \n",
       "883            16785               249                 8   \n",
       "483            16675               248                21   \n",
       "2383           16640               254                22   \n",
       "\n",
       "      Distinct Called Numbers  Age Group  Tariff Plan  Status  Age  \\\n",
       "2983                       82          2            2       1   25   \n",
       "2583                       97          2            2       1   25   \n",
       "883                        80          2            1       1   25   \n",
       "483                        95          2            1       1   25   \n",
       "2383                       88          2            2       1   25   \n",
       "\n",
       "      Customer Value  Churn  \n",
       "2983         848.025      0  \n",
       "2583         901.530      0  \n",
       "883          802.530      0  \n",
       "483          856.035      0  \n",
       "2383         859.230      0  "
      ]
     },
     "execution_count": 294,
     "metadata": {},
     "output_type": "execute_result"
    }
   ],
   "source": [
    "df_sorted = df.sort_values('Seconds of Use', ascending=False)\n",
    "df_sorted.head()"
   ]
  },
  {
   "cell_type": "markdown",
   "id": "1ce0780f-e44f-47df-a569-1b1b123a6632",
   "metadata": {},
   "source": [
    "## 10. Merging and Joining DataFrames\n",
    "\n",
    "You can combine two tables using a common column—just like matching student names to their grades.\n",
    "\n",
    "**Uses**  \n",
    "To combine more information from different sources, build larger analysis, or bring together related datasets."
   ]
  },
  {
   "cell_type": "code",
   "execution_count": 297,
   "id": "caf81758-f91d-440e-b972-d72fcf17da8b",
   "metadata": {},
   "outputs": [
    {
     "name": "stdout",
     "output_type": "stream",
     "text": [
      "   ID  Name  Score\n",
      "0   1  Anna     95\n",
      "1   2   Bob     88\n"
     ]
    }
   ],
   "source": [
    "data1 = pd.DataFrame({'ID': [1,2], 'Name': ['Anna', 'Bob']})\n",
    "data2 = pd.DataFrame({'ID': [1,2], 'Score': [95, 88]})\n",
    "merged = pd.merge(data1, data2, on='ID')\n",
    "print(merged)"
   ]
  },
  {
   "cell_type": "markdown",
   "id": "9ab5c1db-756c-4b9c-8c8b-639b046f8cab",
   "metadata": {},
   "source": [
    "## 11. Applying Functions\n",
    "\n",
    "pandas allows you to apply a function to every item or row in a column, making quick transformations or calculations.\n",
    "\n",
    "**Uses**  \n",
    "To process data flexibly, like formatting names or doing calculations."
   ]
  },
  {
   "cell_type": "code",
   "execution_count": 300,
   "id": "ded227c3-2822-460b-9b12-2eca07cb286e",
   "metadata": {},
   "outputs": [
    {
     "data": {
      "text/html": [
       "<div>\n",
       "<style scoped>\n",
       "    .dataframe tbody tr th:only-of-type {\n",
       "        vertical-align: middle;\n",
       "    }\n",
       "\n",
       "    .dataframe tbody tr th {\n",
       "        vertical-align: top;\n",
       "    }\n",
       "\n",
       "    .dataframe thead th {\n",
       "        text-align: right;\n",
       "    }\n",
       "</style>\n",
       "<table border=\"1\" class=\"dataframe\">\n",
       "  <thead>\n",
       "    <tr style=\"text-align: right;\">\n",
       "      <th></th>\n",
       "      <th>Call  Failure</th>\n",
       "      <th>Complains</th>\n",
       "      <th>Subscription  Length</th>\n",
       "      <th>Charge  Amount</th>\n",
       "      <th>Seconds of Use</th>\n",
       "      <th>Frequency of use</th>\n",
       "      <th>Frequency of SMS</th>\n",
       "      <th>Distinct Called Numbers</th>\n",
       "      <th>Age Group</th>\n",
       "      <th>Tariff Plan</th>\n",
       "      <th>Status</th>\n",
       "      <th>Age</th>\n",
       "      <th>Customer Value</th>\n",
       "      <th>Churn</th>\n",
       "    </tr>\n",
       "  </thead>\n",
       "  <tbody>\n",
       "    <tr>\n",
       "      <th>0</th>\n",
       "      <td>8</td>\n",
       "      <td>0</td>\n",
       "      <td>38</td>\n",
       "      <td>0</td>\n",
       "      <td>0.004370</td>\n",
       "      <td>71</td>\n",
       "      <td>5</td>\n",
       "      <td>17</td>\n",
       "      <td>3</td>\n",
       "      <td>1</td>\n",
       "      <td>1</td>\n",
       "      <td>30</td>\n",
       "      <td>197.640</td>\n",
       "      <td>0</td>\n",
       "    </tr>\n",
       "    <tr>\n",
       "      <th>1</th>\n",
       "      <td>0</td>\n",
       "      <td>0</td>\n",
       "      <td>39</td>\n",
       "      <td>0</td>\n",
       "      <td>0.000318</td>\n",
       "      <td>5</td>\n",
       "      <td>7</td>\n",
       "      <td>4</td>\n",
       "      <td>2</td>\n",
       "      <td>1</td>\n",
       "      <td>2</td>\n",
       "      <td>25</td>\n",
       "      <td>46.035</td>\n",
       "      <td>0</td>\n",
       "    </tr>\n",
       "    <tr>\n",
       "      <th>2</th>\n",
       "      <td>10</td>\n",
       "      <td>0</td>\n",
       "      <td>37</td>\n",
       "      <td>0</td>\n",
       "      <td>0.002453</td>\n",
       "      <td>60</td>\n",
       "      <td>359</td>\n",
       "      <td>24</td>\n",
       "      <td>3</td>\n",
       "      <td>1</td>\n",
       "      <td>1</td>\n",
       "      <td>30</td>\n",
       "      <td>1536.520</td>\n",
       "      <td>0</td>\n",
       "    </tr>\n",
       "    <tr>\n",
       "      <th>3</th>\n",
       "      <td>10</td>\n",
       "      <td>0</td>\n",
       "      <td>38</td>\n",
       "      <td>0</td>\n",
       "      <td>0.004198</td>\n",
       "      <td>66</td>\n",
       "      <td>1</td>\n",
       "      <td>35</td>\n",
       "      <td>1</td>\n",
       "      <td>1</td>\n",
       "      <td>1</td>\n",
       "      <td>15</td>\n",
       "      <td>240.020</td>\n",
       "      <td>0</td>\n",
       "    </tr>\n",
       "    <tr>\n",
       "      <th>4</th>\n",
       "      <td>3</td>\n",
       "      <td>0</td>\n",
       "      <td>38</td>\n",
       "      <td>0</td>\n",
       "      <td>0.002393</td>\n",
       "      <td>58</td>\n",
       "      <td>2</td>\n",
       "      <td>33</td>\n",
       "      <td>1</td>\n",
       "      <td>1</td>\n",
       "      <td>1</td>\n",
       "      <td>15</td>\n",
       "      <td>145.805</td>\n",
       "      <td>0</td>\n",
       "    </tr>\n",
       "  </tbody>\n",
       "</table>\n",
       "</div>"
      ],
      "text/plain": [
       "   Call  Failure  Complains  Subscription  Length  Charge  Amount  \\\n",
       "0              8          0                    38               0   \n",
       "1              0          0                    39               0   \n",
       "2             10          0                    37               0   \n",
       "3             10          0                    38               0   \n",
       "4              3          0                    38               0   \n",
       "\n",
       "   Seconds of Use  Frequency of use  Frequency of SMS  \\\n",
       "0        0.004370                71                 5   \n",
       "1        0.000318                 5                 7   \n",
       "2        0.002453                60               359   \n",
       "3        0.004198                66                 1   \n",
       "4        0.002393                58                 2   \n",
       "\n",
       "   Distinct Called Numbers  Age Group  Tariff Plan  Status  Age  \\\n",
       "0                       17          3            1       1   30   \n",
       "1                        4          2            1       2   25   \n",
       "2                       24          3            1       1   30   \n",
       "3                       35          1            1       1   15   \n",
       "4                       33          1            1       1   15   \n",
       "\n",
       "   Customer Value  Churn  \n",
       "0         197.640      0  \n",
       "1          46.035      0  \n",
       "2        1536.520      0  \n",
       "3         240.020      0  \n",
       "4         145.805      0  "
      ]
     },
     "execution_count": 300,
     "metadata": {},
     "output_type": "execute_result"
    }
   ],
   "source": [
    "df['Seconds of Use'] = df['Seconds of Use'].apply(lambda x: x / 1000000)\n",
    "df.head()"
   ]
  },
  {
   "cell_type": "code",
   "execution_count": null,
   "id": "37f3cc8d-173a-42fd-9af0-66cc5d66704d",
   "metadata": {},
   "outputs": [],
   "source": []
  }
 ],
 "metadata": {
  "kernelspec": {
   "display_name": "Python [conda env:base] *",
   "language": "python",
   "name": "conda-base-py"
  },
  "language_info": {
   "codemirror_mode": {
    "name": "ipython",
    "version": 3
   },
   "file_extension": ".py",
   "mimetype": "text/x-python",
   "name": "python",
   "nbconvert_exporter": "python",
   "pygments_lexer": "ipython3",
   "version": "3.12.7"
  }
 },
 "nbformat": 4,
 "nbformat_minor": 5
}
